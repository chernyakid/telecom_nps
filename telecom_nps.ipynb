{
 "cells": [
  {
   "cell_type": "markdown",
   "id": "546ff43f",
   "metadata": {},
   "source": [
    "# Анализ NPS среди клиентов телекоммуникационной компании\n",
    "\n",
    "**Цель исследования** — определить текущий уровень потребительской лояльности NPS среди клиентов из России. \n",
    "\n",
    "**Заказчик исследования** — большая телекоммуникационная компания, которая оказывает услуги на территории всего СНГ. "
   ]
  },
  {
   "cell_type": "code",
   "execution_count": 1,
   "id": "fc7efa54",
   "metadata": {},
   "outputs": [],
   "source": [
    "import os\n",
    "import pandas as pd\n",
    "import numpy as np\n",
    "\n",
    "from sqlalchemy import create_engine"
   ]
  },
  {
   "cell_type": "code",
   "execution_count": 2,
   "id": "0017f8e7",
   "metadata": {},
   "outputs": [],
   "source": [
    "path_to_db_local = 'telecomm_csi.db'\n",
    "path_to_db_platform = '/datasets/telecomm_csi.db'\n",
    "path_to_db = None\n",
    "\n",
    "if os.path.exists(path_to_db_local):\n",
    "    path_to_db = path_to_db_local\n",
    "elif os.path.exists(path_to_db_platform):\n",
    "    path_to_db = path_to_db_platform\n",
    "else:\n",
    "    raise Exception('Файл с базой данных SQLite не найден!')\n",
    "\n",
    "if path_to_db:\n",
    "    engine = create_engine(f'sqlite:///{path_to_db}', echo=False)"
   ]
  },
  {
   "cell_type": "code",
   "execution_count": 3,
   "id": "4b768127",
   "metadata": {},
   "outputs": [
    {
     "data": {
      "text/html": [
       "<div>\n",
       "<style scoped>\n",
       "    .dataframe tbody tr th:only-of-type {\n",
       "        vertical-align: middle;\n",
       "    }\n",
       "\n",
       "    .dataframe tbody tr th {\n",
       "        vertical-align: top;\n",
       "    }\n",
       "\n",
       "    .dataframe thead th {\n",
       "        text-align: right;\n",
       "    }\n",
       "</style>\n",
       "<table border=\"1\" class=\"dataframe\">\n",
       "  <thead>\n",
       "    <tr style=\"text-align: right;\">\n",
       "      <th></th>\n",
       "      <th>user_id</th>\n",
       "      <th>lt_day</th>\n",
       "      <th>is_new</th>\n",
       "      <th>age</th>\n",
       "      <th>gender_segment</th>\n",
       "      <th>os_name</th>\n",
       "      <th>cpe_type_name</th>\n",
       "      <th>country</th>\n",
       "      <th>city</th>\n",
       "      <th>age_segment</th>\n",
       "      <th>traffic_segment</th>\n",
       "      <th>lifetime_segment</th>\n",
       "      <th>nps_score</th>\n",
       "      <th>nps_group</th>\n",
       "    </tr>\n",
       "  </thead>\n",
       "  <tbody>\n",
       "    <tr>\n",
       "      <th>0</th>\n",
       "      <td>A001A2</td>\n",
       "      <td>2320</td>\n",
       "      <td>0</td>\n",
       "      <td>45.0</td>\n",
       "      <td>женский</td>\n",
       "      <td>ANDROID</td>\n",
       "      <td>SMARTPHONE</td>\n",
       "      <td>Россия</td>\n",
       "      <td>Уфа</td>\n",
       "      <td>45-54</td>\n",
       "      <td>1-5</td>\n",
       "      <td>36+</td>\n",
       "      <td>10</td>\n",
       "      <td>cторонники</td>\n",
       "    </tr>\n",
       "    <tr>\n",
       "      <th>1</th>\n",
       "      <td>A001WF</td>\n",
       "      <td>2344</td>\n",
       "      <td>0</td>\n",
       "      <td>53.0</td>\n",
       "      <td>мужской</td>\n",
       "      <td>ANDROID</td>\n",
       "      <td>SMARTPHONE</td>\n",
       "      <td>Россия</td>\n",
       "      <td>Киров</td>\n",
       "      <td>45-54</td>\n",
       "      <td>1-5</td>\n",
       "      <td>36+</td>\n",
       "      <td>10</td>\n",
       "      <td>cторонники</td>\n",
       "    </tr>\n",
       "    <tr>\n",
       "      <th>2</th>\n",
       "      <td>A003Q7</td>\n",
       "      <td>467</td>\n",
       "      <td>0</td>\n",
       "      <td>57.0</td>\n",
       "      <td>мужской</td>\n",
       "      <td>ANDROID</td>\n",
       "      <td>SMARTPHONE</td>\n",
       "      <td>Россия</td>\n",
       "      <td>Москва</td>\n",
       "      <td>55-64</td>\n",
       "      <td>20-25</td>\n",
       "      <td>13-24</td>\n",
       "      <td>10</td>\n",
       "      <td>cторонники</td>\n",
       "    </tr>\n",
       "    <tr>\n",
       "      <th>3</th>\n",
       "      <td>A004TB</td>\n",
       "      <td>4190</td>\n",
       "      <td>0</td>\n",
       "      <td>44.0</td>\n",
       "      <td>женский</td>\n",
       "      <td>IOS</td>\n",
       "      <td>SMARTPHONE</td>\n",
       "      <td>Россия</td>\n",
       "      <td>РостовнаДону</td>\n",
       "      <td>35-44</td>\n",
       "      <td>0.1-1</td>\n",
       "      <td>36+</td>\n",
       "      <td>10</td>\n",
       "      <td>cторонники</td>\n",
       "    </tr>\n",
       "    <tr>\n",
       "      <th>4</th>\n",
       "      <td>A004XT</td>\n",
       "      <td>1163</td>\n",
       "      <td>0</td>\n",
       "      <td>24.0</td>\n",
       "      <td>мужской</td>\n",
       "      <td>ANDROID</td>\n",
       "      <td>SMARTPHONE</td>\n",
       "      <td>Россия</td>\n",
       "      <td>Рязань</td>\n",
       "      <td>16-24</td>\n",
       "      <td>5-10</td>\n",
       "      <td>36+</td>\n",
       "      <td>10</td>\n",
       "      <td>cторонники</td>\n",
       "    </tr>\n",
       "    <tr>\n",
       "      <th>5</th>\n",
       "      <td>A005O0</td>\n",
       "      <td>5501</td>\n",
       "      <td>0</td>\n",
       "      <td>42.0</td>\n",
       "      <td>женский</td>\n",
       "      <td>ANDROID</td>\n",
       "      <td>SMARTPHONE</td>\n",
       "      <td>Россия</td>\n",
       "      <td>Омск</td>\n",
       "      <td>35-44</td>\n",
       "      <td>5-10</td>\n",
       "      <td>36+</td>\n",
       "      <td>6</td>\n",
       "      <td>критики</td>\n",
       "    </tr>\n",
       "    <tr>\n",
       "      <th>6</th>\n",
       "      <td>A0061R</td>\n",
       "      <td>1236</td>\n",
       "      <td>0</td>\n",
       "      <td>45.0</td>\n",
       "      <td>мужской</td>\n",
       "      <td>ANDROID</td>\n",
       "      <td>SMARTPHONE</td>\n",
       "      <td>Россия</td>\n",
       "      <td>Уфа</td>\n",
       "      <td>45-54</td>\n",
       "      <td>10-15</td>\n",
       "      <td>36+</td>\n",
       "      <td>10</td>\n",
       "      <td>cторонники</td>\n",
       "    </tr>\n",
       "    <tr>\n",
       "      <th>7</th>\n",
       "      <td>A009KS</td>\n",
       "      <td>313</td>\n",
       "      <td>1</td>\n",
       "      <td>35.0</td>\n",
       "      <td>мужской</td>\n",
       "      <td>ANDROID</td>\n",
       "      <td>SMARTPHONE</td>\n",
       "      <td>Россия</td>\n",
       "      <td>Москва</td>\n",
       "      <td>35-44</td>\n",
       "      <td>45-50</td>\n",
       "      <td>7-12</td>\n",
       "      <td>10</td>\n",
       "      <td>cторонники</td>\n",
       "    </tr>\n",
       "    <tr>\n",
       "      <th>8</th>\n",
       "      <td>A00AES</td>\n",
       "      <td>3238</td>\n",
       "      <td>0</td>\n",
       "      <td>36.0</td>\n",
       "      <td>женский</td>\n",
       "      <td>ANDROID</td>\n",
       "      <td>SMARTPHONE</td>\n",
       "      <td>Россия</td>\n",
       "      <td>СанктПетербург</td>\n",
       "      <td>35-44</td>\n",
       "      <td>1-5</td>\n",
       "      <td>36+</td>\n",
       "      <td>10</td>\n",
       "      <td>cторонники</td>\n",
       "    </tr>\n",
       "    <tr>\n",
       "      <th>9</th>\n",
       "      <td>A00F70</td>\n",
       "      <td>4479</td>\n",
       "      <td>0</td>\n",
       "      <td>54.0</td>\n",
       "      <td>женский</td>\n",
       "      <td>ANDROID</td>\n",
       "      <td>SMARTPHONE</td>\n",
       "      <td>Россия</td>\n",
       "      <td>Волгоград</td>\n",
       "      <td>45-54</td>\n",
       "      <td>15-20</td>\n",
       "      <td>36+</td>\n",
       "      <td>9</td>\n",
       "      <td>cторонники</td>\n",
       "    </tr>\n",
       "  </tbody>\n",
       "</table>\n",
       "</div>"
      ],
      "text/plain": [
       "  user_id  lt_day  is_new   age gender_segment  os_name cpe_type_name country  \\\n",
       "0  A001A2    2320       0  45.0        женский  ANDROID    SMARTPHONE  Россия   \n",
       "1  A001WF    2344       0  53.0        мужской  ANDROID    SMARTPHONE  Россия   \n",
       "2  A003Q7     467       0  57.0        мужской  ANDROID    SMARTPHONE  Россия   \n",
       "3  A004TB    4190       0  44.0        женский      IOS    SMARTPHONE  Россия   \n",
       "4  A004XT    1163       0  24.0        мужской  ANDROID    SMARTPHONE  Россия   \n",
       "5  A005O0    5501       0  42.0        женский  ANDROID    SMARTPHONE  Россия   \n",
       "6  A0061R    1236       0  45.0        мужской  ANDROID    SMARTPHONE  Россия   \n",
       "7  A009KS     313       1  35.0        мужской  ANDROID    SMARTPHONE  Россия   \n",
       "8  A00AES    3238       0  36.0        женский  ANDROID    SMARTPHONE  Россия   \n",
       "9  A00F70    4479       0  54.0        женский  ANDROID    SMARTPHONE  Россия   \n",
       "\n",
       "             city age_segment traffic_segment lifetime_segment  nps_score  \\\n",
       "0             Уфа       45-54             1-5              36+         10   \n",
       "1           Киров       45-54             1-5              36+         10   \n",
       "2          Москва       55-64           20-25            13-24         10   \n",
       "3    РостовнаДону       35-44           0.1-1              36+         10   \n",
       "4          Рязань       16-24            5-10              36+         10   \n",
       "5            Омск       35-44            5-10              36+          6   \n",
       "6             Уфа       45-54           10-15              36+         10   \n",
       "7          Москва       35-44           45-50             7-12         10   \n",
       "8  СанктПетербург       35-44             1-5              36+         10   \n",
       "9       Волгоград       45-54           15-20              36+          9   \n",
       "\n",
       "    nps_group  \n",
       "0  cторонники  \n",
       "1  cторонники  \n",
       "2  cторонники  \n",
       "3  cторонники  \n",
       "4  cторонники  \n",
       "5     критики  \n",
       "6  cторонники  \n",
       "7  cторонники  \n",
       "8  cторонники  \n",
       "9  cторонники  "
      ]
     },
     "execution_count": 3,
     "metadata": {},
     "output_type": "execute_result"
    }
   ],
   "source": [
    "# По данным запроса создадим датафрейм, который содержит основную информацию о клиентах\n",
    "query = \"\"\"\n",
    "   select \n",
    "    user_id,\n",
    "    lt_day,\n",
    "    CASE\n",
    "        WHEN lt_day <= 365 THEN TRUE\n",
    "        WHEN lt_day > 365 THEN FALSE\n",
    "        ELSE NULL\n",
    "    END as is_new,\n",
    "    age,\n",
    "    CASE\n",
    "        WHEN gender_segment = 1.0 THEN \"женский\"\n",
    "        WHEN gender_segment = 0.0 THEN \"мужской\"\n",
    "        ELSE NULL\n",
    "    END AS gender_segment,\n",
    "    os_name,\n",
    "    cpe_type_name,\n",
    "    loc.country,\n",
    "    loc.city,\n",
    "    substr(ag.title, 4) as age_segment,\n",
    "    substr(tr.title, 4) as traffic_segment,\n",
    "    substr(lt.title, 4) as lifetime_segment,\n",
    "    nps_score,\n",
    "    CASE\n",
    "        WHEN nps_score <= 6 THEN \"критики\"\n",
    "        WHEN nps_score >= 7 and nps_score <= 8 THEN \"нейтралы\"\n",
    "        WHEN nps_score >= 9 and nps_score <= 10 THEN \"cторонники\"\n",
    "        ELSE NULL\n",
    "    END as nps_group\n",
    "from user as u\n",
    "LEFT JOIN location AS loc ON u.location_id = loc.location_id\n",
    "LEFT JOIN age_segment AS ag ON u.age_gr_id = ag.age_gr_id\n",
    "LEFT JOIN traffic_segment AS tr ON u.tr_gr_id = tr.tr_gr_id\n",
    "LEFT JOIN lifetime_segment AS lt ON u.lt_gr_id = lt.lt_gr_id;\n",
    "\"\"\"\n",
    "df = pd.read_sql(query, engine)\n",
    "df.head(10)"
   ]
  },
  {
   "cell_type": "code",
   "execution_count": 4,
   "id": "9db04858",
   "metadata": {},
   "outputs": [],
   "source": [
    "# Выгрузим полученные данные в CSV-формате для дальнейшей их обработки в Tableau\n",
    "df.to_csv('telecomm_csi_tableau_chernyakid.csv', index=False)"
   ]
  }
 ],
 "metadata": {
  "ExecuteTimeLog": [
   {
    "duration": 575,
    "start_time": "2024-07-02T05:53:40.727Z"
   },
   {
    "duration": 75,
    "start_time": "2024-07-02T05:53:44.336Z"
   },
   {
    "duration": 3,
    "start_time": "2024-07-02T05:53:46.288Z"
   },
   {
    "duration": 3956,
    "start_time": "2024-07-02T05:53:49.744Z"
   },
   {
    "duration": 2541,
    "start_time": "2024-07-02T05:54:18.060Z"
   },
   {
    "duration": 2705,
    "start_time": "2024-07-02T05:56:36.997Z"
   },
   {
    "duration": 566,
    "start_time": "2024-07-02T11:15:33.548Z"
   },
   {
    "duration": 93,
    "start_time": "2024-07-02T11:15:34.116Z"
   },
   {
    "duration": 3,
    "start_time": "2024-07-02T11:15:34.212Z"
   },
   {
    "duration": 3742,
    "start_time": "2024-07-02T11:15:34.217Z"
   },
   {
    "duration": 6,
    "start_time": "2024-07-02T11:15:37.961Z"
   },
   {
    "duration": 3641,
    "start_time": "2024-07-02T11:41:49.172Z"
   },
   {
    "duration": 3593,
    "start_time": "2024-07-02T11:50:09.114Z"
   },
   {
    "duration": 489,
    "start_time": "2024-07-02T11:50:56.645Z"
   },
   {
    "duration": 493,
    "start_time": "2024-07-02T11:51:52.000Z"
   },
   {
    "duration": 44,
    "start_time": "2024-07-03T04:38:59.169Z"
   },
   {
    "duration": 467,
    "start_time": "2024-07-03T04:39:04.588Z"
   },
   {
    "duration": 74,
    "start_time": "2024-07-03T04:39:05.056Z"
   },
   {
    "duration": 3083,
    "start_time": "2024-07-03T04:39:05.131Z"
   },
   {
    "duration": 518,
    "start_time": "2024-07-03T04:39:08.216Z"
   },
   {
    "duration": 488,
    "start_time": "2024-07-03T04:39:08.735Z"
   },
   {
    "duration": 526,
    "start_time": "2024-07-03T04:39:09.225Z"
   },
   {
    "duration": 2,
    "start_time": "2024-07-03T04:39:09.752Z"
   },
   {
    "duration": 526,
    "start_time": "2024-07-03T04:39:41.733Z"
   },
   {
    "duration": 8,
    "start_time": "2024-07-03T04:44:12.880Z"
   },
   {
    "duration": 519,
    "start_time": "2024-07-03T04:44:44.555Z"
   },
   {
    "duration": 520,
    "start_time": "2024-07-03T04:45:03.336Z"
   },
   {
    "duration": 513,
    "start_time": "2024-07-03T04:45:38.416Z"
   },
   {
    "duration": 511,
    "start_time": "2024-07-03T04:46:26.908Z"
   },
   {
    "duration": 515,
    "start_time": "2024-07-03T04:46:38.622Z"
   },
   {
    "duration": 516,
    "start_time": "2024-07-03T04:47:11.663Z"
   },
   {
    "duration": 409,
    "start_time": "2024-07-03T04:47:28.147Z"
   },
   {
    "duration": 64,
    "start_time": "2024-07-03T04:47:28.557Z"
   },
   {
    "duration": 2949,
    "start_time": "2024-07-03T04:47:28.622Z"
   },
   {
    "duration": 81,
    "start_time": "2024-07-03T04:47:31.573Z"
   },
   {
    "duration": 516,
    "start_time": "2024-07-03T04:47:31.655Z"
   },
   {
    "duration": 498,
    "start_time": "2024-07-03T04:47:32.172Z"
   },
   {
    "duration": 525,
    "start_time": "2024-07-03T04:47:32.671Z"
   },
   {
    "duration": 497,
    "start_time": "2024-07-03T04:47:33.198Z"
   },
   {
    "duration": 2,
    "start_time": "2024-07-03T04:47:33.696Z"
   },
   {
    "duration": 4,
    "start_time": "2024-07-03T05:09:37.294Z"
   },
   {
    "duration": 155,
    "start_time": "2024-07-03T05:13:07.421Z"
   },
   {
    "duration": 27,
    "start_time": "2024-07-03T05:13:19.104Z"
   },
   {
    "duration": 5,
    "start_time": "2024-07-03T05:14:37.255Z"
   },
   {
    "duration": 3636,
    "start_time": "2024-07-03T05:57:38.073Z"
   },
   {
    "duration": 3856,
    "start_time": "2024-07-03T06:08:21.053Z"
   },
   {
    "duration": 3829,
    "start_time": "2024-07-03T06:24:11.667Z"
   },
   {
    "duration": 3764,
    "start_time": "2024-07-03T06:24:39.039Z"
   },
   {
    "duration": 4041,
    "start_time": "2024-07-03T06:34:23.288Z"
   },
   {
    "duration": 3985,
    "start_time": "2024-07-03T06:38:17.141Z"
   },
   {
    "duration": 4082,
    "start_time": "2024-07-03T06:40:44.629Z"
   },
   {
    "duration": 874,
    "start_time": "2024-07-03T06:43:00.493Z"
   },
   {
    "duration": 472,
    "start_time": "2024-07-03T06:44:00.461Z"
   },
   {
    "duration": 88,
    "start_time": "2024-07-03T06:44:00.934Z"
   },
   {
    "duration": 3141,
    "start_time": "2024-07-03T06:44:01.023Z"
   },
   {
    "duration": 2,
    "start_time": "2024-07-03T06:44:04.166Z"
   },
   {
    "duration": 4225,
    "start_time": "2024-07-03T06:44:04.169Z"
   },
   {
    "duration": 4198,
    "start_time": "2024-07-03T06:46:28.690Z"
   },
   {
    "duration": 433,
    "start_time": "2024-07-03T06:53:35.211Z"
   },
   {
    "duration": 4349,
    "start_time": "2024-07-03T06:54:27.314Z"
   },
   {
    "duration": 479,
    "start_time": "2024-07-03T07:02:18.564Z"
   },
   {
    "duration": 58,
    "start_time": "2024-07-03T07:02:19.045Z"
   },
   {
    "duration": 4419,
    "start_time": "2024-07-03T07:02:19.105Z"
   },
   {
    "duration": 4380,
    "start_time": "2024-07-03T07:02:23.526Z"
   },
   {
    "duration": 48,
    "start_time": "2024-07-03T12:00:11.437Z"
   },
   {
    "duration": 504,
    "start_time": "2024-07-03T12:00:25.527Z"
   },
   {
    "duration": 67,
    "start_time": "2024-07-03T12:00:26.033Z"
   },
   {
    "duration": 5272,
    "start_time": "2024-07-03T12:00:26.102Z"
   },
   {
    "duration": 4135,
    "start_time": "2024-07-03T12:00:31.376Z"
   },
   {
    "duration": 84,
    "start_time": "2024-07-09T05:21:51.339Z"
   },
   {
    "duration": 57,
    "start_time": "2024-07-09T05:27:17.409Z"
   }
  ],
  "kernelspec": {
   "display_name": "Python 3 (ipykernel)",
   "language": "python",
   "name": "python3"
  },
  "language_info": {
   "codemirror_mode": {
    "name": "ipython",
    "version": 3
   },
   "file_extension": ".py",
   "mimetype": "text/x-python",
   "name": "python",
   "nbconvert_exporter": "python",
   "pygments_lexer": "ipython3",
   "version": "3.9.5"
  },
  "toc": {
   "base_numbering": 1,
   "nav_menu": {},
   "number_sections": true,
   "sideBar": true,
   "skip_h1_title": true,
   "title_cell": "Table of Contents",
   "title_sidebar": "Contents",
   "toc_cell": false,
   "toc_position": {},
   "toc_section_display": true,
   "toc_window_display": false
  }
 },
 "nbformat": 4,
 "nbformat_minor": 5
}
